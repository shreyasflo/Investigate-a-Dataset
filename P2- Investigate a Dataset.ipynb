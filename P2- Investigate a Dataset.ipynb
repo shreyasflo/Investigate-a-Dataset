{
 "cells": [
  {
   "cell_type": "markdown",
   "metadata": {},
   "source": [
    "# Udacity Data Analyst Nanodegree : Project P2 Investigate a Dataset     "
   ]
  },
  {
   "cell_type": "markdown",
   "metadata": {},
   "source": [
    "### Shreyas Ramnath"
   ]
  },
  {
   "cell_type": "markdown",
   "metadata": {},
   "source": [
    "### Date : 3rd July 2017"
   ]
  },
  {
   "cell_type": "markdown",
   "metadata": {},
   "source": [
    "## Data Phase:\n",
    "\n",
    "I chose the Lahman Baseball Dataset (http://www.seanlahman.com/baseball-archive/statistics/), as the dataset for my analysis. Below are some of the questions which occurred to me. I chose to analyze the balking property wherein the hitter is tricked by the pitcher. \n",
    " \n",
    "(http://www.dictionary.com/browse/balking)\n",
    "### 1. Who is highest rated balker ?\n",
    "### 2. Who is the highest rated non-balker ?\n",
    "### 3. Are there more balks in a regular season compared to post season baseball?\n",
    "### 4. What is the general trendline of the balks being called in baseball games?"
   ]
  },
  {
   "cell_type": "markdown",
   "metadata": {},
   "source": [
    "##    Data Wrangling Phase:\n",
    "\n",
    "### Missing Data:\n",
    "Due to the unavailability of the post season balk data for Q3 between 1884-1892 & 2012, the balk and innings pitched were dropped for my pitchingpost table.\n",
    "\n",
    "### Tables Merge:\n",
    "For Q1 & Q2 the pitching and master table were merged to create a new table for balk information.\n",
    "\n",
    "### Modification of Data:\n",
    "The IPouts value was divided by 3, to get the innings as the former gave 3 outs per inning. The Balks per innings (BKIP) played for Q4-question and innings pitched per balk for Q1,Q2-questions is computed by dividing the balks and the re-computed innings pitched columns respectively\n",
    "\n",
    "The (csv files/tables) required for my analysis were Master.csv, Batting.csv,PitchingPost.csv and Pitching.csv."
   ]
  },
  {
   "cell_type": "markdown",
   "metadata": {},
   "source": [
    "##    Analysis Phase:"
   ]
  },
  {
   "cell_type": "code",
   "execution_count": 1,
   "metadata": {},
   "outputs": [
    {
     "name": "stdout",
     "output_type": "stream",
     "text": [
      "Populating the interactive namespace from numpy and matplotlib\n"
     ]
    }
   ],
   "source": [
    "#importing of pandas, seaborn and matplotlib packages\n",
    "%pylab inline\n",
    "import pandas as pd\n",
    "import seaborn as sns\n",
    "import matplotlib\n",
    "\n",
    "#Loading files into the dataframes using pandas\n",
    "master_Df = pd.read_csv('Master.csv')\n",
    "batting_Df = pd.read_csv('Batting.csv')\n",
    "pitchingpost_Df = pd.read_csv('PitchingPost.csv')\n",
    "pitching_Df = pd.read_csv('Pitching.csv')"
   ]
  },
  {
   "cell_type": "code",
   "execution_count": 2,
   "metadata": {
    "collapsed": true
   },
   "outputs": [],
   "source": [
    "# group by player (Regular)\n",
    "IP_pitcher = (pitching_Df.groupby('playerID')['IPouts'].sum())/3\n",
    "IP_pitcher.rename('IPP', inplace=True)\n",
    "\n",
    "# for every balk the corresponding pitches\n",
    "IP_balk_pitcher = IP_pitcher/(pitching_Df.groupby('playerID')['BK'].sum())\n",
    "IP_balk_pitcher.rename('IPBK',inplace=True)\n",
    "\n",
    "#Merge master and pitching tables\n",
    "table1 = master_Df[['playerID', 'nameFirst', 'nameLast', 'debut', 'finalGame']]\n",
    "\n",
    "#Perform an inner join on playerID on the master table\n",
    "Q1 = table1.join(IP_pitcher, on='playerID', how='inner')\n",
    "Q1 = Q1.join(pitching_Df.groupby('playerID')['BK'].sum(), on='playerID', how='inner')\n",
    "Q1 = Q1.join(IP_balk_pitcher, on='playerID', how='inner').sort_values('IPBK',ascending=True)\n"
   ]
  },
  {
   "cell_type": "markdown",
   "metadata": {},
   "source": [
    "###     1.  Who is the highest ranked balker ?"
   ]
  },
  {
   "cell_type": "code",
   "execution_count": 3,
   "metadata": {},
   "outputs": [
    {
     "data": {
      "text/html": [
       "<div>\n",
       "<style>\n",
       "    .dataframe thead tr:only-child th {\n",
       "        text-align: right;\n",
       "    }\n",
       "\n",
       "    .dataframe thead th {\n",
       "        text-align: left;\n",
       "    }\n",
       "\n",
       "    .dataframe tbody tr th {\n",
       "        vertical-align: top;\n",
       "    }\n",
       "</style>\n",
       "<table border=\"1\" class=\"dataframe\">\n",
       "  <thead>\n",
       "    <tr style=\"text-align: right;\">\n",
       "      <th></th>\n",
       "      <th>playerID</th>\n",
       "      <th>nameFirst</th>\n",
       "      <th>nameLast</th>\n",
       "      <th>debut</th>\n",
       "      <th>finalGame</th>\n",
       "      <th>IPP</th>\n",
       "      <th>BK</th>\n",
       "      <th>IPBK</th>\n",
       "    </tr>\n",
       "  </thead>\n",
       "  <tbody>\n",
       "    <tr>\n",
       "      <th>5592</th>\n",
       "      <td>fortuti01</td>\n",
       "      <td>Tim</td>\n",
       "      <td>Fortugno</td>\n",
       "      <td>1992-07-20</td>\n",
       "      <td>1995-07-26</td>\n",
       "      <td>110.333333</td>\n",
       "      <td>6</td>\n",
       "      <td>18.388889</td>\n",
       "    </tr>\n",
       "    <tr>\n",
       "      <th>17995</th>\n",
       "      <td>waltege01</td>\n",
       "      <td>Gene</td>\n",
       "      <td>Walter</td>\n",
       "      <td>1985-08-09</td>\n",
       "      <td>1988-09-30</td>\n",
       "      <td>182.666667</td>\n",
       "      <td>9</td>\n",
       "      <td>20.296296</td>\n",
       "    </tr>\n",
       "    <tr>\n",
       "      <th>1590</th>\n",
       "      <td>booneda02</td>\n",
       "      <td>Danny</td>\n",
       "      <td>Boone</td>\n",
       "      <td>1981-04-11</td>\n",
       "      <td>1990-09-30</td>\n",
       "      <td>101.666667</td>\n",
       "      <td>5</td>\n",
       "      <td>20.333333</td>\n",
       "    </tr>\n",
       "    <tr>\n",
       "      <th>14484</th>\n",
       "      <td>rincoan01</td>\n",
       "      <td>Andy</td>\n",
       "      <td>Rincon</td>\n",
       "      <td>1980-09-15</td>\n",
       "      <td>1982-05-22</td>\n",
       "      <td>106.666667</td>\n",
       "      <td>5</td>\n",
       "      <td>21.333333</td>\n",
       "    </tr>\n",
       "    <tr>\n",
       "      <th>691</th>\n",
       "      <td>balleja01</td>\n",
       "      <td>Jay</td>\n",
       "      <td>Baller</td>\n",
       "      <td>1982-09-19</td>\n",
       "      <td>1992-08-31</td>\n",
       "      <td>156.333333</td>\n",
       "      <td>7</td>\n",
       "      <td>22.333333</td>\n",
       "    </tr>\n",
       "    <tr>\n",
       "      <th>1339</th>\n",
       "      <td>birkbmi01</td>\n",
       "      <td>Mike</td>\n",
       "      <td>Birkbeck</td>\n",
       "      <td>1986-08-17</td>\n",
       "      <td>1995-06-11</td>\n",
       "      <td>270.333333</td>\n",
       "      <td>12</td>\n",
       "      <td>22.527778</td>\n",
       "    </tr>\n",
       "    <tr>\n",
       "      <th>9427</th>\n",
       "      <td>krollga01</td>\n",
       "      <td>Gary</td>\n",
       "      <td>Kroll</td>\n",
       "      <td>1964-07-26</td>\n",
       "      <td>1969-07-12</td>\n",
       "      <td>159.333333</td>\n",
       "      <td>7</td>\n",
       "      <td>22.761905</td>\n",
       "    </tr>\n",
       "    <tr>\n",
       "      <th>984</th>\n",
       "      <td>beardmi01</td>\n",
       "      <td>Mike</td>\n",
       "      <td>Beard</td>\n",
       "      <td>1974-09-07</td>\n",
       "      <td>1977-05-02</td>\n",
       "      <td>118.000000</td>\n",
       "      <td>5</td>\n",
       "      <td>23.600000</td>\n",
       "    </tr>\n",
       "    <tr>\n",
       "      <th>1650</th>\n",
       "      <td>bouchde01</td>\n",
       "      <td>Denis</td>\n",
       "      <td>Boucher</td>\n",
       "      <td>1991-04-12</td>\n",
       "      <td>1994-05-21</td>\n",
       "      <td>146.000000</td>\n",
       "      <td>6</td>\n",
       "      <td>24.333333</td>\n",
       "    </tr>\n",
       "    <tr>\n",
       "      <th>9725</th>\n",
       "      <td>layanti01</td>\n",
       "      <td>Tim</td>\n",
       "      <td>Layana</td>\n",
       "      <td>1990-04-09</td>\n",
       "      <td>1993-07-26</td>\n",
       "      <td>102.666667</td>\n",
       "      <td>4</td>\n",
       "      <td>25.666667</td>\n",
       "    </tr>\n",
       "    <tr>\n",
       "      <th>18464</th>\n",
       "      <td>willhni01</td>\n",
       "      <td>Nick</td>\n",
       "      <td>Willhite</td>\n",
       "      <td>1963-06-16</td>\n",
       "      <td>1967-06-23</td>\n",
       "      <td>182.000000</td>\n",
       "      <td>7</td>\n",
       "      <td>26.000000</td>\n",
       "    </tr>\n",
       "    <tr>\n",
       "      <th>11978</th>\n",
       "      <td>moralfr01</td>\n",
       "      <td>Franklin</td>\n",
       "      <td>Morales</td>\n",
       "      <td>2007-08-18</td>\n",
       "      <td>2016-07-31</td>\n",
       "      <td>490.000000</td>\n",
       "      <td>18</td>\n",
       "      <td>27.222222</td>\n",
       "    </tr>\n",
       "    <tr>\n",
       "      <th>11599</th>\n",
       "      <td>michach01</td>\n",
       "      <td>Chris</td>\n",
       "      <td>Michalak</td>\n",
       "      <td>1998-08-22</td>\n",
       "      <td>2006-09-27</td>\n",
       "      <td>191.333333</td>\n",
       "      <td>7</td>\n",
       "      <td>27.333333</td>\n",
       "    </tr>\n",
       "  </tbody>\n",
       "</table>\n",
       "</div>"
      ],
      "text/plain": [
       "        playerID nameFirst  nameLast       debut   finalGame         IPP  BK  \\\n",
       "5592   fortuti01       Tim  Fortugno  1992-07-20  1995-07-26  110.333333   6   \n",
       "17995  waltege01      Gene    Walter  1985-08-09  1988-09-30  182.666667   9   \n",
       "1590   booneda02     Danny     Boone  1981-04-11  1990-09-30  101.666667   5   \n",
       "14484  rincoan01      Andy    Rincon  1980-09-15  1982-05-22  106.666667   5   \n",
       "691    balleja01       Jay    Baller  1982-09-19  1992-08-31  156.333333   7   \n",
       "1339   birkbmi01      Mike  Birkbeck  1986-08-17  1995-06-11  270.333333  12   \n",
       "9427   krollga01      Gary     Kroll  1964-07-26  1969-07-12  159.333333   7   \n",
       "984    beardmi01      Mike     Beard  1974-09-07  1977-05-02  118.000000   5   \n",
       "1650   bouchde01     Denis   Boucher  1991-04-12  1994-05-21  146.000000   6   \n",
       "9725   layanti01       Tim    Layana  1990-04-09  1993-07-26  102.666667   4   \n",
       "18464  willhni01      Nick  Willhite  1963-06-16  1967-06-23  182.000000   7   \n",
       "11978  moralfr01  Franklin   Morales  2007-08-18  2016-07-31  490.000000  18   \n",
       "11599  michach01     Chris  Michalak  1998-08-22  2006-09-27  191.333333   7   \n",
       "\n",
       "            IPBK  \n",
       "5592   18.388889  \n",
       "17995  20.296296  \n",
       "1590   20.333333  \n",
       "14484  21.333333  \n",
       "691    22.333333  \n",
       "1339   22.527778  \n",
       "9427   22.761905  \n",
       "984    23.600000  \n",
       "1650   24.333333  \n",
       "9725   25.666667  \n",
       "18464  26.000000  \n",
       "11978  27.222222  \n",
       "11599  27.333333  "
      ]
     },
     "execution_count": 3,
     "metadata": {},
     "output_type": "execute_result"
    }
   ],
   "source": [
    "Q1 = Q1.loc[Q1['IPP'] > 100]\n",
    "Q1.head(13)"
   ]
  },
  {
   "cell_type": "markdown",
   "metadata": {},
   "source": [
    "Considering, for more than 100 inning pitches, Tim Fortugno is highest ranked balker with a balk for every ~18 inning pitches"
   ]
  },
  {
   "cell_type": "markdown",
   "metadata": {},
   "source": [
    "###    2.  Who is the highest ranked non-balker?"
   ]
  },
  {
   "cell_type": "code",
   "execution_count": 4,
   "metadata": {},
   "outputs": [
    {
     "data": {
      "text/html": [
       "<div>\n",
       "<style>\n",
       "    .dataframe thead tr:only-child th {\n",
       "        text-align: right;\n",
       "    }\n",
       "\n",
       "    .dataframe thead th {\n",
       "        text-align: left;\n",
       "    }\n",
       "\n",
       "    .dataframe tbody tr th {\n",
       "        vertical-align: top;\n",
       "    }\n",
       "</style>\n",
       "<table border=\"1\" class=\"dataframe\">\n",
       "  <thead>\n",
       "    <tr style=\"text-align: right;\">\n",
       "      <th></th>\n",
       "      <th>playerID</th>\n",
       "      <th>nameFirst</th>\n",
       "      <th>nameLast</th>\n",
       "      <th>debut</th>\n",
       "      <th>finalGame</th>\n",
       "      <th>IPP</th>\n",
       "      <th>BK</th>\n",
       "      <th>IPBK</th>\n",
       "    </tr>\n",
       "  </thead>\n",
       "  <tbody>\n",
       "    <tr>\n",
       "      <th>14951</th>\n",
       "      <td>rueteki01</td>\n",
       "      <td>Kirk</td>\n",
       "      <td>Rueter</td>\n",
       "      <td>1993-07-07</td>\n",
       "      <td>2005-07-29</td>\n",
       "      <td>1918.000000</td>\n",
       "      <td>0</td>\n",
       "      <td>inf</td>\n",
       "    </tr>\n",
       "    <tr>\n",
       "      <th>8706</th>\n",
       "      <td>jonessa02</td>\n",
       "      <td>Sam</td>\n",
       "      <td>Jones</td>\n",
       "      <td>1951-09-22</td>\n",
       "      <td>1964-10-03</td>\n",
       "      <td>1643.333333</td>\n",
       "      <td>0</td>\n",
       "      <td>inf</td>\n",
       "    </tr>\n",
       "    <tr>\n",
       "      <th>11765</th>\n",
       "      <td>miltoer01</td>\n",
       "      <td>Eric</td>\n",
       "      <td>Milton</td>\n",
       "      <td>1998-04-05</td>\n",
       "      <td>2009-06-27</td>\n",
       "      <td>1582.333333</td>\n",
       "      <td>0</td>\n",
       "      <td>inf</td>\n",
       "    </tr>\n",
       "    <tr>\n",
       "      <th>9660</th>\n",
       "      <td>larsedo01</td>\n",
       "      <td>Don</td>\n",
       "      <td>Larsen</td>\n",
       "      <td>1953-04-18</td>\n",
       "      <td>1967-07-07</td>\n",
       "      <td>1548.000000</td>\n",
       "      <td>0</td>\n",
       "      <td>inf</td>\n",
       "    </tr>\n",
       "    <tr>\n",
       "      <th>1871</th>\n",
       "      <td>breweto01</td>\n",
       "      <td>Tom</td>\n",
       "      <td>Brewer</td>\n",
       "      <td>1954-04-18</td>\n",
       "      <td>1961-09-27</td>\n",
       "      <td>1509.333333</td>\n",
       "      <td>0</td>\n",
       "      <td>inf</td>\n",
       "    </tr>\n",
       "    <tr>\n",
       "      <th>6952</th>\n",
       "      <td>halldi01</td>\n",
       "      <td>Dick</td>\n",
       "      <td>Hall</td>\n",
       "      <td>1952-04-15</td>\n",
       "      <td>1971-09-25</td>\n",
       "      <td>1259.666667</td>\n",
       "      <td>0</td>\n",
       "      <td>inf</td>\n",
       "    </tr>\n",
       "    <tr>\n",
       "      <th>9993</th>\n",
       "      <td>lindbpa01</td>\n",
       "      <td>Paul</td>\n",
       "      <td>Lindblad</td>\n",
       "      <td>1965-09-15</td>\n",
       "      <td>1978-10-01</td>\n",
       "      <td>1213.666667</td>\n",
       "      <td>0</td>\n",
       "      <td>inf</td>\n",
       "    </tr>\n",
       "    <tr>\n",
       "      <th>1324</th>\n",
       "      <td>billich01</td>\n",
       "      <td>Chad</td>\n",
       "      <td>Billingsley</td>\n",
       "      <td>2006-06-15</td>\n",
       "      <td>2015-07-18</td>\n",
       "      <td>1212.333333</td>\n",
       "      <td>0</td>\n",
       "      <td>inf</td>\n",
       "    </tr>\n",
       "    <tr>\n",
       "      <th>15108</th>\n",
       "      <td>samarje01</td>\n",
       "      <td>Jeff</td>\n",
       "      <td>Samardzija</td>\n",
       "      <td>2008-07-25</td>\n",
       "      <td>2016-09-28</td>\n",
       "      <td>1195.000000</td>\n",
       "      <td>0</td>\n",
       "      <td>inf</td>\n",
       "    </tr>\n",
       "    <tr>\n",
       "      <th>12570</th>\n",
       "      <td>niesejo01</td>\n",
       "      <td>Jonathon</td>\n",
       "      <td>Niese</td>\n",
       "      <td>2008-09-02</td>\n",
       "      <td>2016-08-23</td>\n",
       "      <td>1189.333333</td>\n",
       "      <td>0</td>\n",
       "      <td>inf</td>\n",
       "    </tr>\n",
       "    <tr>\n",
       "      <th>11047</th>\n",
       "      <td>mccatst01</td>\n",
       "      <td>Steve</td>\n",
       "      <td>McCatty</td>\n",
       "      <td>1977-09-17</td>\n",
       "      <td>1985-09-25</td>\n",
       "      <td>1188.333333</td>\n",
       "      <td>0</td>\n",
       "      <td>inf</td>\n",
       "    </tr>\n",
       "    <tr>\n",
       "      <th>17400</th>\n",
       "      <td>travebi01</td>\n",
       "      <td>Bill</td>\n",
       "      <td>Travers</td>\n",
       "      <td>1974-05-19</td>\n",
       "      <td>1983-07-17</td>\n",
       "      <td>1120.666667</td>\n",
       "      <td>0</td>\n",
       "      <td>inf</td>\n",
       "    </tr>\n",
       "    <tr>\n",
       "      <th>7824</th>\n",
       "      <td>hoffmtr01</td>\n",
       "      <td>Trevor</td>\n",
       "      <td>Hoffman</td>\n",
       "      <td>1993-04-06</td>\n",
       "      <td>2010-09-29</td>\n",
       "      <td>1089.333333</td>\n",
       "      <td>0</td>\n",
       "      <td>inf</td>\n",
       "    </tr>\n",
       "  </tbody>\n",
       "</table>\n",
       "</div>"
      ],
      "text/plain": [
       "        playerID nameFirst     nameLast       debut   finalGame          IPP  \\\n",
       "14951  rueteki01      Kirk       Rueter  1993-07-07  2005-07-29  1918.000000   \n",
       "8706   jonessa02       Sam        Jones  1951-09-22  1964-10-03  1643.333333   \n",
       "11765  miltoer01      Eric       Milton  1998-04-05  2009-06-27  1582.333333   \n",
       "9660   larsedo01       Don       Larsen  1953-04-18  1967-07-07  1548.000000   \n",
       "1871   breweto01       Tom       Brewer  1954-04-18  1961-09-27  1509.333333   \n",
       "6952    halldi01      Dick         Hall  1952-04-15  1971-09-25  1259.666667   \n",
       "9993   lindbpa01      Paul     Lindblad  1965-09-15  1978-10-01  1213.666667   \n",
       "1324   billich01      Chad  Billingsley  2006-06-15  2015-07-18  1212.333333   \n",
       "15108  samarje01      Jeff   Samardzija  2008-07-25  2016-09-28  1195.000000   \n",
       "12570  niesejo01  Jonathon        Niese  2008-09-02  2016-08-23  1189.333333   \n",
       "11047  mccatst01     Steve      McCatty  1977-09-17  1985-09-25  1188.333333   \n",
       "17400  travebi01      Bill      Travers  1974-05-19  1983-07-17  1120.666667   \n",
       "7824   hoffmtr01    Trevor      Hoffman  1993-04-06  2010-09-29  1089.333333   \n",
       "\n",
       "       BK  IPBK  \n",
       "14951   0   inf  \n",
       "8706    0   inf  \n",
       "11765   0   inf  \n",
       "9660    0   inf  \n",
       "1871    0   inf  \n",
       "6952    0   inf  \n",
       "9993    0   inf  \n",
       "1324    0   inf  \n",
       "15108   0   inf  \n",
       "12570   0   inf  \n",
       "11047   0   inf  \n",
       "17400   0   inf  \n",
       "7824    0   inf  "
      ]
     },
     "execution_count": 4,
     "metadata": {},
     "output_type": "execute_result"
    }
   ],
   "source": [
    "Q2 = Q1.loc[(Q1['debut'] > '1950-01-01')&(Q1['BK'] == 0)].sort_values('IPP',ascending=False)\n",
    "Q2.head(13)"
   ]
  },
  {
   "cell_type": "markdown",
   "metadata": {},
   "source": [
    "Kirk Rueter has the highest number of innings pitched without a balk"
   ]
  },
  {
   "cell_type": "markdown",
   "metadata": {},
   "source": [
    "###    3.  Are there more balks called per innings in a regular season compared to post season baseball?"
   ]
  },
  {
   "cell_type": "code",
   "execution_count": 5,
   "metadata": {},
   "outputs": [
    {
     "data": {
      "text/plain": [
       "<matplotlib.text.Text at 0xc2e2a58>"
      ]
     },
     "execution_count": 5,
     "metadata": {},
     "output_type": "execute_result"
    },
    {
     "data": {
      "image/png": "[encoded data removed]",
      "text/plain": [
       "<matplotlib.figure.Figure at 0xe2b30f0>"
      ]
     },
     "metadata": {},
     "output_type": "display_data"
    }
   ],
   "source": [
    "#Post Season\n",
    "IP_peryear = (pitchingpost_Df.groupby('yearID')['IPouts'].sum()) / 3\n",
    "balk_peryear = pitchingpost_Df.groupby('yearID')['BK'].sum()\n",
    "balks_ip_peryear = balk_peryear/IP_peryear\n",
    "\n",
    "#Regular Season\n",
    "balk_ip_year = pitching_Df.groupby('yearID')['BK'].sum()/(pitching_Df.groupby('yearID')['IPouts'].sum()/3)\n",
    "fig = balks_ip_peryear.plot(color='b', label='Post Season')\n",
    "fig = balk_ip_year.plot(color='r', label='Regular Season')\n",
    "\n",
    "xlabel('Year')\n",
    "ylabel('BKIP')\n",
    "\n",
    "fig.legend(loc='upper center')\n",
    "fig.set_title('Comparison of Balks called in regular in contrast to post seasons')"
   ]
  },
  {
   "cell_type": "markdown",
   "metadata": {},
   "source": [
    "As we can observe from the plot, the BKIP (balks per innings pitched) value for regular in red is much higher than the post blue season values. But just \n",
    "on the basis of calculating the mean, indeed we can observe the claimed trend, but that is not sufficient ground to accept this \n",
    "hypothesis. So we need to perform a Hypothesis test"
   ]
  },
  {
   "cell_type": "markdown",
   "metadata": {},
   "source": [
    "###    3.1 Hypothesis Test"
   ]
  },
  {
   "cell_type": "markdown",
   "metadata": {},
   "source": [
    "H0: μD, regular balks per inning - postseason balks per inning <= 0"
   ]
  },
  {
   "cell_type": "markdown",
   "metadata": {},
   "source": [
    "HA: μD, regular balks per inning - postseason balks per inning > 0"
   ]
  },
  {
   "cell_type": "markdown",
   "metadata": {},
   "source": [
    "H0 => Null hypothesis , HA => Alternative hypothesis, μD => Mean difference b/w balks/inning for regular season and post season"
   ]
  },
  {
   "cell_type": "markdown",
   "metadata": {},
   "source": [
    "The population standard deviation is unknown. The means calculated are sample means as some data between years is missing and\n",
    "there is no visible data relationship between the regular and post season data values.The central limit theorem is used as \n",
    "the data for the balks per innings pitched is somewhat normal. Hence suggest use of right tailed independent t-test and unpooled standard error (due to unequal variances) for comparing the two means which are independent of one another."
   ]
  },
  {
   "cell_type": "code",
   "execution_count": 6,
   "metadata": {},
   "outputs": [
    {
     "name": "stdout",
     "output_type": "stream",
     "text": [
      "Regular Season\n",
      "Innings played in the season 3804951.0\n",
      "Weighted regular season standard deviation 0.00944984386164\n",
      "Weighted regular season mean 0.00356404064073\n"
     ]
    }
   ],
   "source": [
    "#Regular balk per individual & year\n",
    "s_IP_sum =  (pitching_Df['IPouts']/3).sum()\n",
    "s_balks_IP = pitching_Df['BK'] / (pitching_Df['IPouts'] /3)\n",
    "\n",
    "#Weighted mean for above\n",
    "s_IP_weight = (pitching_Df['IPouts']/3)/s_IP_sum\n",
    "weight_s_mean = (s_IP_weight * s_balks_IP).sum()/s_IP_weight.sum()\n",
    "\n",
    "#Standard deviation Weighted\n",
    "#https://stats.stackexchange.com/questions/6534/how-do-i-calculate-a-weighted-standard-deviation-in-excel\n",
    "sweighted_variance = ((s_IP_weight*((s_balks_IP - weight_s_mean)**2))).sum() \n",
    "sweighted_SD = (sweighted_variance / s_IP_weight.sum())**0.5\n",
    "\n",
    "#Print statements to display ouput\n",
    "print 'Regular Season'\n",
    "print 'Innings played in the season ' + str(s_IP_sum)\n",
    "print 'Weighted regular season standard deviation ' + str(sweighted_SD)\n",
    "print 'Weighted regular season mean ' + str(weight_s_mean)"
   ]
  },
  {
   "cell_type": "code",
   "execution_count": 7,
   "metadata": {},
   "outputs": [
    {
     "name": "stdout",
     "output_type": "stream",
     "text": [
      "Post Season\n",
      "Innings played in the season 27072.0\n",
      "Weighted post season standard deviation 0.0305838929747\n",
      "Weighted post season mean 0.00251182033097\n"
     ]
    }
   ],
   "source": [
    "#Post balk per individual & year\n",
    "p_balks_bool = pd.notnull(pitchingpost_Df['BK']) \n",
    "p_IP = (pitchingpost_Df['IPouts'] / 3)[p_balks_bool]\n",
    "p_balks = pitchingpost_Df['BK'][p_balks_bool]\n",
    "p_IP_sum = p_IP.sum()\n",
    "p_balks_IP = p_balks / p_IP\n",
    "\n",
    "# Weighted mean for above\n",
    "p_IP_weight = p_IP / p_IP_sum\n",
    "weight_p_mean = (p_IP_weight * p_balks_IP).sum() / p_IP_weight.sum()\n",
    "\n",
    "#Standard deviation weighted\n",
    "# Reference - > https://stats.stackexchange.com/questions/6534/how-do-i-calculate-a-weighted-standard-deviation-in-excel\n",
    "pweighted_variance = (p_IP_weight * ((p_balks_IP - weight_p_mean) ** 2)).sum()\n",
    "pweighted_SD  = (pweighted_variance / p_IP_weight.sum()) ** 0.5\n",
    "\n",
    "#Print statements to display output\n",
    "print 'Post Season'\n",
    "print 'Innings played in the season ' + str(p_IP_sum)\n",
    "print 'Weighted post season standard deviation ' + str(pweighted_SD)\n",
    "print 'Weighted post season mean ' + str(weight_p_mean)"
   ]
  },
  {
   "cell_type": "code",
   "execution_count": 8,
   "metadata": {},
   "outputs": [
    {
     "name": "stdout",
     "output_type": "stream",
     "text": [
      "Unpooled Standard Error 0.000185943089911\n",
      "t value 5.6588298617\n",
      "Degrees of Freedom 27107.7888088\n",
      "p-value 0\n"
     ]
    }
   ],
   "source": [
    "#Calculating unpooled standard error for two groups of independent data values\n",
    "# Reference - > http://sites.stat.psu.edu/~ajw13/stat200_notes/10_twogroups/08_twogroups_print.html\n",
    "\n",
    "y=((1/(s_IP_sum-1.))*(((sweighted_SD**2)/s_IP_sum)**2))+((1/(p_IP_sum-1.))*(((pweighted_SD**2)/p_IP_sum)**2))\n",
    "unpooled_standardError = ((sweighted_SD**2/s_IP_sum) + (pweighted_SD**2/p_IP_sum))**0.5\n",
    "print 'Unpooled Standard Error ' + str(unpooled_standardError)\n",
    "\n",
    "#calculating t-value\n",
    "t = (weight_s_mean-weight_p_mean)/unpooled_standardError\n",
    "print 't value ' +str(t)\n",
    "\n",
    "#calculating degrees of freedom\n",
    "x=(((sweighted_SD**2)/s_IP_sum)+((pweighted_SD**2)/p_IP_sum))**2\n",
    "degOffreedom = x / y\n",
    "print 'Degrees of Freedom ' +str(degOffreedom)\n",
    "\n",
    "#Calulating value of p from given df and t values\n",
    "#http://www.socscistatistics.com/pvalues/tdistribution.aspx\n",
    "print 'p-value '+str(0)"
   ]
  },
  {
   "cell_type": "markdown",
   "metadata": {},
   "source": [
    "Hence now we have substantial evidence for any level of significance that the frequency of balks in the regular season far\n",
    "exceeds that of post seasons"
   ]
  },
  {
   "cell_type": "markdown",
   "metadata": {},
   "source": [
    "###     4.What is the general trendline of the balks being called in baseball games ?"
   ]
  },
  {
   "cell_type": "code",
   "execution_count": 9,
   "metadata": {},
   "outputs": [
    {
     "data": {
      "text/plain": [
       "<matplotlib.text.Text at 0xe46a8d0>"
      ]
     },
     "execution_count": 9,
     "metadata": {},
     "output_type": "execute_result"
    },
    {
     "data": {
      "image/png": "[encoded data removed]",
      "text/plain": [
       "<matplotlib.figure.Figure at 0xe5c0550>"
      ]
     },
     "metadata": {},
     "output_type": "display_data"
    }
   ],
   "source": [
    "# From (regular season)\n",
    "fig = balk_ip_year.plot(kind='bar', color='r', label='Regular')\n",
    "xlabel('Year')\n",
    "ylabel('Regular Season balks per innings pitched')\n",
    "fig.legend(loc='upper center')\n",
    "fig.set_title('Regular Season balks per innings pitched versus Year Trendline')"
   ]
  },
  {
   "cell_type": "markdown",
   "metadata": {},
   "source": [
    "As we can observe since 1880 the frequency of calling balks is on an increasing trend. We can observe that around 1987-1999 the \n",
    "frequency of balks maxed out a ~40 per inning. Due to this reason this was called as the year of the balk\n",
    "(http://www.baseball-reference.com/bullpen/Balk).\n",
    "Also the peaks in the balks called in certain years coincide with the years during which enforcements and rule changes were brought in. (http://reconditebaseball.blogspot.ca/2008/08/balks-story-of-1988-major-league.html)"
   ]
  },
  {
   "cell_type": "markdown",
   "metadata": {},
   "source": [
    "## Conclusion"
   ]
  },
  {
   "cell_type": "markdown",
   "metadata": {},
   "source": [
    "For the caught stealing (\"CS\") column in the Batting table, there are big gaps in the data up until 1920 and smaller gaps in \n",
    "the data from 1920 to 1950 altough data from 1951 to present is complete.\n",
    "There is no postseason balk data from 1884 to 1892 and 2012 hence, the innings pitched and balk data for these seasons in \n",
    "the PitchingPost table were required to be excluded. \n",
    "It would have been better if, there was a table which contained data related specifically to balk-related record holders.\n",
    "If the \"IPouts\" data would have been per innings instead of 3 outs, the need to divide the innings pitched by 3 throughout the analysis could have been avoided.\n",
    "Balks per inning pitched and innings pitched per balk information was not readily available, hence needed due calculation.\n",
    "Due to reasons in 3.1, the idea of using right tailed independent t-test and unpooled standard error for the mean comparison is\n",
    "justified, hence the statistical tests can be trusted completely to verify the hypothesis"
   ]
  },
  {
   "cell_type": "code",
   "execution_count": null,
   "metadata": {
    "collapsed": true
   },
   "outputs": [],
   "source": []
  }
 ],
 "metadata": {
  "kernelspec": {
   "display_name": "Python 2",
   "language": "python",
   "name": "python2"
  },
  "language_info": {
   "codemirror_mode": {
    "name": "ipython",
    "version": 2
   },
   "file_extension": ".py",
   "mimetype": "text/x-python",
   "name": "python",
   "nbconvert_exporter": "python",
   "pygments_lexer": "ipython2",
   "version": "2.7.13"
  }
 },
 "nbformat": 4,
 "nbformat_minor": 2
}
